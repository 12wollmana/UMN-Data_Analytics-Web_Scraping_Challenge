{
 "cells": [
  {
   "cell_type": "markdown",
   "metadata": {},
   "source": [
    "# Mission to Mars | <em>Aaron Wollman</em>"
   ]
  },
  {
   "cell_type": "markdown",
   "metadata": {},
   "source": [
    "## Setup"
   ]
  },
  {
   "cell_type": "code",
   "execution_count": 1,
   "metadata": {},
   "outputs": [],
   "source": [
    "from bs4 import BeautifulSoup\n",
    "from pprint import pprint"
   ]
  },
  {
   "cell_type": "code",
   "execution_count": 2,
   "metadata": {},
   "outputs": [],
   "source": [
    "import sys\n",
    "sys.path.append(\"../scrape\")\n",
    "from scrape_mars import Mars_Scraper"
   ]
  },
  {
   "cell_type": "code",
   "execution_count": 3,
   "metadata": {},
   "outputs": [],
   "source": [
    "mars_scraper = Mars_Scraper()"
   ]
  },
  {
   "cell_type": "markdown",
   "metadata": {},
   "source": [
    "## NASA Mars News"
   ]
  },
  {
   "cell_type": "code",
   "execution_count": 4,
   "metadata": {
    "tags": []
   },
   "outputs": [
    {
     "output_type": "stream",
     "name": "stdout",
     "text": "{'paragraph': \"Did you know NASA's next Mars rover has a nearly identical \"\n              \"sibling on Earth for testing? Even better, it's about to roll \"\n              'for the first time through a replica Martian landscape.',\n 'title': \"NASA Readies Perseverance Mars Rover's Earthly Twin \"}\n"
    }
   ],
   "source": [
    "nasa_news = mars_scraper.get_latest_nasa_news()\n",
    "pprint(nasa_news)"
   ]
  },
  {
   "cell_type": "markdown",
   "metadata": {},
   "source": [
    "## JPL Mars Space Images"
   ]
  },
  {
   "cell_type": "code",
   "execution_count": 5,
   "metadata": {
    "tags": []
   },
   "outputs": [
    {
     "output_type": "stream",
     "name": "stdout",
     "text": "{'img_url': 'https://www.jpl.nasa.gov/spaceimages/images/mediumsize/PIA19952_ip.jpg',\n 'title': 'Featured Mars Image'}\n"
    }
   ],
   "source": [
    "featured_image = mars_scraper.get_mars_space_featured_image()\n",
    "pprint(featured_image)"
   ]
  },
  {
   "cell_type": "markdown",
   "metadata": {},
   "source": [
    "## Mars Facts"
   ]
  },
  {
   "cell_type": "code",
   "execution_count": 6,
   "metadata": {
    "tags": []
   },
   "outputs": [
    {
     "output_type": "stream",
     "name": "stdout",
     "text": "<table class=\"dataframe table\">\n <tbody>\n  <tr>\n   <td>\n    Equatorial Diameter:\n   </td>\n   <td>\n    6,792 km\n   </td>\n  </tr>\n  <tr>\n   <td>\n    Polar Diameter:\n   </td>\n   <td>\n    6,752 km\n   </td>\n  </tr>\n  <tr>\n   <td>\n    Mass:\n   </td>\n   <td>\n    6.39 × 10^23 kg (0.11 Earths)\n   </td>\n  </tr>\n  <tr>\n   <td>\n    Moons:\n   </td>\n   <td>\n    2 (Phobos &amp; Deimos)\n   </td>\n  </tr>\n  <tr>\n   <td>\n    Orbit Distance:\n   </td>\n   <td>\n    227,943,824 km (1.38 AU)\n   </td>\n  </tr>\n  <tr>\n   <td>\n    Orbit Period:\n   </td>\n   <td>\n    687 days (1.9 years)\n   </td>\n  </tr>\n  <tr>\n   <td>\n    Surface Temperature:\n   </td>\n   <td>\n    -87 to -5 °C\n   </td>\n  </tr>\n  <tr>\n   <td>\n    First Record:\n   </td>\n   <td>\n    2nd millennium BC\n   </td>\n  </tr>\n  <tr>\n   <td>\n    Recorded By:\n   </td>\n   <td>\n    Egyptian astronomers\n   </td>\n  </tr>\n </tbody>\n</table>\n"
    }
   ],
   "source": [
    "mars_facts = mars_scraper.get_mars_facts_table_html()\n",
    "print(BeautifulSoup(mars_facts, \"html.parser\").prettify())"
   ]
  },
  {
   "cell_type": "markdown",
   "metadata": {},
   "source": [
    "## Mars Hemispheres"
   ]
  },
  {
   "cell_type": "code",
   "execution_count": 7,
   "metadata": {
    "tags": []
   },
   "outputs": [
    {
     "output_type": "stream",
     "name": "stdout",
     "text": "[{'img_url': 'https://astropedia.astrogeology.usgs.gov/download/Mars/Viking/cerberus_enhanced.tif/full.jpg',\n  'title': 'Cerberus Hemisphere Enhanced'},\n {'img_url': 'https://astropedia.astrogeology.usgs.gov/download/Mars/Viking/schiaparelli_enhanced.tif/full.jpg',\n  'title': 'Schiaparelli Hemisphere Enhanced'},\n {'img_url': 'https://astropedia.astrogeology.usgs.gov/download/Mars/Viking/syrtis_major_enhanced.tif/full.jpg',\n  'title': 'Syrtis Major Hemisphere Enhanced'},\n {'img_url': 'https://astropedia.astrogeology.usgs.gov/download/Mars/Viking/valles_marineris_enhanced.tif/full.jpg',\n  'title': 'Valles Marineris Hemisphere Enhanced'}]\n"
    }
   ],
   "source": [
    "hemi_images = mars_scraper.get_mars_hemisphere_images()\n",
    "pprint(hemi_images)"
   ]
  },
  {
   "cell_type": "markdown",
   "metadata": {},
   "source": [
    "## Cleanup"
   ]
  },
  {
   "cell_type": "code",
   "execution_count": 8,
   "metadata": {},
   "outputs": [],
   "source": [
    "mars_scraper.close_browser()"
   ]
  },
  {
   "cell_type": "code",
   "execution_count": null,
   "metadata": {},
   "outputs": [],
   "source": []
  }
 ],
 "metadata": {
  "kernelspec": {
   "display_name": "Python 3.6.10 64-bit ('NewPythonData': conda)",
   "language": "python",
   "name": "python_defaultSpec_1599598286754"
  },
  "language_info": {
   "codemirror_mode": {
    "name": "ipython",
    "version": 3
   },
   "file_extension": ".py",
   "mimetype": "text/x-python",
   "name": "python",
   "nbconvert_exporter": "python",
   "pygments_lexer": "ipython3",
   "version": "3.6.10-final"
  }
 },
 "nbformat": 4,
 "nbformat_minor": 4
}