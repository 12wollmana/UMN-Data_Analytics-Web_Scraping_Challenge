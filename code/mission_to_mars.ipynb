{
 "cells": [
  {
   "cell_type": "markdown",
   "metadata": {},
   "source": [
    "# Mission to Mars | <em>Aaron Wollman</em>"
   ]
  },
  {
   "cell_type": "markdown",
   "metadata": {},
   "source": [
    "## Setup"
   ]
  },
  {
   "cell_type": "code",
   "execution_count": 1,
   "metadata": {},
   "outputs": [],
   "source": [
    "from splinter import Browser\n",
    "from bs4 import BeautifulSoup\n",
    "import pandas as pd\n",
    "from pprint import pprint\n",
    "import time"
   ]
  },
  {
   "cell_type": "code",
   "execution_count": 2,
   "metadata": {},
   "outputs": [],
   "source": [
    "from config import chromedriver_path"
   ]
  },
  {
   "cell_type": "code",
   "execution_count": 3,
   "metadata": {},
   "outputs": [],
   "source": [
    "def init_chrome_browser(exe_path):\n",
    "    \"\"\"\n",
    "    Opens a chrome session in splinter.\n",
    "    @ params:\n",
    "        exe_path - The path to a chrome browser driver, like chromedriver.\n",
    "    \"\"\"\n",
    "    executable_path = {\"executable_path\": exe_path}\n",
    "    return Browser(\"chrome\", **executable_path, headless=False)"
   ]
  },
  {
   "cell_type": "code",
   "execution_count": 4,
   "metadata": {},
   "outputs": [],
   "source": [
    "def get_soup_for_current(browser):\n",
    "    html = browser.html\n",
    "    soup = BeautifulSoup(html, \"html.parser\")\n",
    "    return soup\n",
    "\n",
    "def get_soup(browser, url):\n",
    "    \"\"\"\n",
    "    Opens a url and returns it's HTML BeautifulSoup object.\n",
    "    @ params:\n",
    "        browser - A splinter browser.\n",
    "        url - The url to get the HTML from.\n",
    "    \"\"\"\n",
    "    browser.visit(url)\n",
    "    return get_soup_for_current(browser)"
   ]
  },
  {
   "cell_type": "code",
   "execution_count": 5,
   "metadata": {},
   "outputs": [],
   "source": [
    "browser = init_chrome_browser(chromedriver_path)"
   ]
  },
  {
   "cell_type": "markdown",
   "metadata": {},
   "source": [
    "## NASA Mars News"
   ]
  },
  {
   "cell_type": "code",
   "execution_count": null,
   "metadata": {},
   "outputs": [],
   "source": [
    "# Get the HTML\n",
    "nasa_news_url = \"https://mars.nasa.gov/news/\"\n",
    "nasa_soup = get_soup(browser, nasa_news_url)\n",
    "time.sleep(3) # Make sure the page is loaded before moving on.\n",
    "print(nasa_soup.prettify())"
   ]
  },
  {
   "cell_type": "code",
   "execution_count": null,
   "metadata": {},
   "outputs": [],
   "source": [
    "latest_news_soup = nasa_soup.find(\"div\", class_=\"list_text\")\n",
    "print(latest_news_soup.prettify())"
   ]
  },
  {
   "cell_type": "code",
   "execution_count": null,
   "metadata": {},
   "outputs": [],
   "source": [
    "latest_title_soup = latest_news_soup.find(\"div\", class_=\"content_title\")\n",
    "latest_title = latest_title_soup.get_text()\n",
    "print(latest_title)"
   ]
  },
  {
   "cell_type": "code",
   "execution_count": null,
   "metadata": {},
   "outputs": [],
   "source": [
    "latest_paragraph_soup = latest_news_soup.find(\"div\", class_=\"article_teaser_body\")\n",
    "latest_paragraph = latest_paragraph_soup.get_text()\n",
    "print(latest_paragraph)"
   ]
  },
  {
   "cell_type": "code",
   "execution_count": null,
   "metadata": {},
   "outputs": [],
   "source": [
    "nasa_news_latest = {\n",
    "    \"title\" : latest_title,\n",
    "    \"paragraph\" : latest_paragraph\n",
    "}"
   ]
  },
  {
   "cell_type": "markdown",
   "metadata": {},
   "source": [
    "## JPL Mars Space Images"
   ]
  },
  {
   "cell_type": "code",
   "execution_count": null,
   "metadata": {},
   "outputs": [],
   "source": [
    "jpl_base_url = \"https://www.jpl.nasa.gov\"\n",
    "jpl_url = f\"{jpl_base_url}/spaceimages/?search=&category=Mars\"\n",
    "jpl_soup = get_soup(browser, jpl_url)\n",
    "print(jpl_soup.prettify())"
   ]
  },
  {
   "cell_type": "code",
   "execution_count": null,
   "metadata": {},
   "outputs": [],
   "source": [
    "jpl_header_soup = jpl_soup.find(\"article\")\n",
    "print(jpl_header_soup.prettify())"
   ]
  },
  {
   "cell_type": "code",
   "execution_count": null,
   "metadata": {},
   "outputs": [],
   "source": [
    "partial_url = jpl_header_soup.find(\"a\").get(\"data-fancybox-href\")\n",
    "featured_image_url = f\"{jpl_base_url}{partial_url}\"\n",
    "print(featured_image_url)"
   ]
  },
  {
   "cell_type": "markdown",
   "metadata": {},
   "source": [
    "## Mars Facts"
   ]
  },
  {
   "cell_type": "code",
   "execution_count": null,
   "metadata": {},
   "outputs": [],
   "source": [
    "mars_facts_url = \"https://space-facts.com/mars/\"\n",
    "mars_facts_tables = pd.read_html(mars_facts_url)\n",
    "mars_planet_profile = mars_facts_tables[0]\n",
    "mars_planet_profile"
   ]
  },
  {
   "cell_type": "code",
   "execution_count": null,
   "metadata": {},
   "outputs": [],
   "source": [
    "mars_planet_profile_html = mars_planet_profile.to_html(index=False, header=False)\n",
    "pprint(mars_planet_profile_html)"
   ]
  },
  {
   "cell_type": "markdown",
   "metadata": {},
   "source": [
    "## Mars Hemispheres"
   ]
  },
  {
   "cell_type": "code",
   "execution_count": null,
   "metadata": {},
   "outputs": [],
   "source": [
    "hemisphere_root = \"https://astrogeology.usgs.gov\"\n",
    "hemisphere_url = f\"{hemisphere_root}/search/results?q=hemisphere+enhanced&k1=target&v1=Mars\"\n",
    "hemisphere_soup = get_soup(browser, hemisphere_url)\n",
    "print(hemisphere_soup.prettify())"
   ]
  },
  {
   "cell_type": "code",
   "execution_count": null,
   "metadata": {},
   "outputs": [],
   "source": [
    "hemisphere_list_soup = hemisphere_soup.find(\"div\", class_=\"results\")\n",
    "print(hemisphere_list_soup.prettify())"
   ]
  },
  {
   "cell_type": "code",
   "execution_count": null,
   "metadata": {},
   "outputs": [],
   "source": [
    "hemisphere_image_urls = []\n",
    "items = hemisphere_list_soup.find_all(\"div\", class_=\"item\")\n",
    "for item_soup in items:\n",
    "    item_link = item_soup.find(\"a\").get(\"href\")\n",
    "    image_page_soup = get_soup(browser, f\"{hemisphere_root}{item_link}\")\n",
    "    image_title = image_page_soup.find(\"h2\").get_text()\n",
    "    image_download_soup = image_page_soup.find_all(\"div\", class_=\"downloads\")[0]\n",
    "    image_url = image_download_soup.find(\"a\").get(\"href\")\n",
    "    hemisphere_image_url = {\n",
    "        \"title\" : image_title,\n",
    "        \"img_url\" : image_url\n",
    "    }\n",
    "    hemisphere_image_urls.append(hemisphere_image_url)\n",
    "pprint(hemisphere_image_urls)    "
   ]
  },
  {
   "cell_type": "markdown",
   "metadata": {},
   "source": [
    "## Cleanup"
   ]
  },
  {
   "cell_type": "code",
   "execution_count": null,
   "metadata": {},
   "outputs": [],
   "source": [
    "browser.quit()"
   ]
  },
  {
   "cell_type": "code",
   "execution_count": null,
   "metadata": {},
   "outputs": [],
   "source": []
  }
 ],
 "metadata": {
  "kernelspec": {
   "display_name": "Python 3",
   "language": "python",
   "name": "python3"
  },
  "language_info": {
   "codemirror_mode": {
    "name": "ipython",
    "version": 3
   },
   "file_extension": ".py",
   "mimetype": "text/x-python",
   "name": "python",
   "nbconvert_exporter": "python",
   "pygments_lexer": "ipython3",
   "version": "3.6.10"
  }
 },
 "nbformat": 4,
 "nbformat_minor": 4
}
